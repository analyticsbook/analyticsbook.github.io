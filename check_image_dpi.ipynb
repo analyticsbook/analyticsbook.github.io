{
 "cells": [
  {
   "cell_type": "code",
   "execution_count": 10,
   "metadata": {},
   "outputs": [],
   "source": [
    "from PIL import Image\n",
    "# im = Image.open('graphics/2_17.png')"
   ]
  },
  {
   "cell_type": "code",
   "execution_count": 14,
   "metadata": {},
   "outputs": [],
   "source": [
    "# print(im.info['dpi'])"
   ]
  },
  {
   "cell_type": "code",
   "execution_count": 31,
   "metadata": {},
   "outputs": [],
   "source": [
    "import glob, os\n",
    "# os.chdir(\"graphics/\")\n",
    "for file in sorted(glob.glob(\"./*.*\")):\n",
    "    # print(file)\n",
    "    try:\n",
    "        im = Image.open(file)\n",
    "        size = im.info['dpi']\n",
    "        if(size[0]<300):\n",
    "            print(file)\n",
    "            print(size,size[0],size[1])\n",
    "    except:\n",
    "        print(\"this file has issue\")\n",
    "        print(file)\n"
   ]
  },
  {
   "cell_type": "code",
   "execution_count": null,
   "metadata": {},
   "outputs": [],
   "source": []
  }
 ],
 "metadata": {
  "kernelspec": {
   "display_name": "Python 3",
   "language": "python",
   "name": "python3"
  },
  "language_info": {
   "codemirror_mode": {
    "name": "ipython",
    "version": 3
   },
   "file_extension": ".py",
   "mimetype": "text/x-python",
   "name": "python",
   "nbconvert_exporter": "python",
   "pygments_lexer": "ipython3",
   "version": "3.8.5"
  }
 },
 "nbformat": 4,
 "nbformat_minor": 4
}
